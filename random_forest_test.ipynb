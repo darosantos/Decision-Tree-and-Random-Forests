{
 "cells": [
  {
   "cell_type": "code",
   "execution_count": 2,
   "metadata": {},
   "outputs": [],
   "source": [
    "from sklearn import datasets\n",
    "from sklearn.model_selection import train_test_split\n",
    "from sklearn.ensemble import RandomForestClassifier"
   ]
  },
  {
   "cell_type": "code",
   "execution_count": 3,
   "metadata": {},
   "outputs": [],
   "source": [
    "iris = datasets.load_iris()\n",
    "X = iris.data[:, [2, 3]]\n",
    "y = iris.target"
   ]
  },
  {
   "cell_type": "code",
   "execution_count": 4,
   "metadata": {},
   "outputs": [],
   "source": [
    "X_train, X_test, y_train, y_test = train_test_split(X, y, test_size=0.3, random_state=0)"
   ]
  },
  {
   "cell_type": "code",
   "execution_count": 5,
   "metadata": {},
   "outputs": [],
   "source": [
    "forest = RandomForestClassifier(criterion='entropy', n_estimators=10, random_state=1, n_jobs=2)"
   ]
  },
  {
   "cell_type": "code",
   "execution_count": 16,
   "metadata": {},
   "outputs": [],
   "source": [
    "def get_n_estimators(n_features: int, n_sample: int) -> int:\n",
    "\t\"\"\"\n",
    "\t\tDetermina o número de estimadores (arvores) usando o cálculo de arranjo \n",
    "\t\tsimples considerando o número de atributos a ser analisado\n",
    "\t\tO uso de arranjo simples se dá pelo motivo de que mos arranjos, os \n",
    "\t\tagrupamentos dos elementos dependem da ordem e da natureza dos mesmos.\n",
    "\t\tFórmula -> a(n,p) = (n!)/((n-p)!)\n",
    "\t\"\"\"\n",
    "\tfrom math import factorial\n",
    "\tn_features = int(n_features)\n",
    "\tn_sample = int(n_sample)\n",
    "\tn_factorial = factorial(n_features)\n",
    "\tn_p_factorial = factorial(n_features - n_sample)\n",
    "\tarrangement_simple = int(n_factorial/n_p_factorial)\n",
    "\t\n",
    "\treturn arrangement_simple"
   ]
  },
  {
   "cell_type": "code",
   "execution_count": 19,
   "metadata": {},
   "outputs": [
    {
     "data": {
      "text/plain": [
       "120"
      ]
     },
     "execution_count": 19,
     "metadata": {},
     "output_type": "execute_result"
    }
   ],
   "source": [
    "get_n_estimators(6, 3)"
   ]
  },
  {
   "cell_type": "code",
   "execution_count": 21,
   "metadata": {},
   "outputs": [],
   "source": [
    "forest = RandomForestClassifier(n_estimators= get_n_estimators(6, 5), \n",
    "\t\t\t\t\t\t\t\tcriterion='entropy',\n",
    "\t\t\t\t\t\t\t\tmax_features = 'auto',\n",
    "\t\t\t\t\t\t\t\tmax_depth = None,\n",
    "\t\t\t\t\t\t\t\tmin_samples_split = 2,\n",
    "\t\t\t\t\t\t\t\tmin_samples_leaf = 1,\n",
    "\t\t\t\t\t\t\t\tmin_weight_fraction_leaf = 0,\n",
    "\t\t\t\t\t\t\t\tmax_leaf_nodes = None,\n",
    "\t\t\t\t\t\t\t\tmin_impurity_decrease = 0,\n",
    "\t\t\t\t\t\t\t\tbootstrap = True,\n",
    "\t\t\t\t\t\t\t\toob_score = True,\n",
    "\t\t\t\t\t\t\t\tn_jobs = -1,\n",
    "\t\t\t\t\t\t\t\trandom_state = 1,\n",
    "\t\t\t\t\t\t\t\tverbose = 1,\n",
    "\t\t\t\t\t\t\t\twarm_start = False,\n",
    "\t\t\t\t\t\t\t\tclass_weight = None\n",
    "\t\t\t\t\t\t\t\t)"
   ]
  },
  {
   "cell_type": "code",
   "execution_count": 22,
   "metadata": {},
   "outputs": [
    {
     "name": "stderr",
     "output_type": "stream",
     "text": [
      "[Parallel(n_jobs=-1)]: Using backend ThreadingBackend with 4 concurrent workers.\n",
      "[Parallel(n_jobs=-1)]: Done  42 tasks      | elapsed:    0.8s\n",
      "[Parallel(n_jobs=-1)]: Done 192 tasks      | elapsed:    1.0s\n",
      "[Parallel(n_jobs=-1)]: Done 442 tasks      | elapsed:    1.3s\n",
      "[Parallel(n_jobs=-1)]: Done 720 out of 720 | elapsed:    1.6s finished\n"
     ]
    },
    {
     "data": {
      "text/plain": [
       "RandomForestClassifier(bootstrap=True, class_weight=None, criterion='entropy',\n",
       "            max_depth=None, max_features='auto', max_leaf_nodes=None,\n",
       "            min_impurity_decrease=0, min_impurity_split=None,\n",
       "            min_samples_leaf=1, min_samples_split=2,\n",
       "            min_weight_fraction_leaf=0, n_estimators=720, n_jobs=-1,\n",
       "            oob_score=True, random_state=1, verbose=1, warm_start=False)"
      ]
     },
     "execution_count": 22,
     "metadata": {},
     "output_type": "execute_result"
    }
   ],
   "source": [
    "forest.fit(X_train, y_train)"
   ]
  },
  {
   "cell_type": "code",
   "execution_count": 24,
   "metadata": {},
   "outputs": [
    {
     "data": {
      "text/plain": [
       "720"
      ]
     },
     "execution_count": 24,
     "metadata": {},
     "output_type": "execute_result"
    }
   ],
   "source": [
    "len(forest.estimators_)"
   ]
  },
  {
   "cell_type": "code",
   "execution_count": null,
   "metadata": {},
   "outputs": [],
   "source": []
  }
 ],
 "metadata": {
  "kernelspec": {
   "display_name": "Python 3",
   "language": "python",
   "name": "python3"
  },
  "language_info": {
   "codemirror_mode": {
    "name": "ipython",
    "version": 3
   },
   "file_extension": ".py",
   "mimetype": "text/x-python",
   "name": "python",
   "nbconvert_exporter": "python",
   "pygments_lexer": "ipython3",
   "version": "3.7.2"
  }
 },
 "nbformat": 4,
 "nbformat_minor": 2
}
